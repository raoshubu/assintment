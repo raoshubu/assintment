{
 "cells": [
  {
   "cell_type": "code",
   "execution_count": 5,
   "id": "9c44f18a",
   "metadata": {},
   "outputs": [
    {
     "name": "stdout",
     "output_type": "stream",
     "text": [
      "1\n",
      "2\n",
      "3\n",
      "4\n",
      "5\n",
      "6\n",
      "7\n",
      "8\n",
      "9\n",
      "10\n"
     ]
    }
   ],
   "source": [
    "i = 1\n",
    "while i<=10:\n",
    "        print(i)\n",
    "        i=i+1"
   ]
  },
  {
   "cell_type": "code",
   "execution_count": 9,
   "id": "4e155cbb",
   "metadata": {},
   "outputs": [
    {
     "name": "stdout",
     "output_type": "stream",
     "text": [
      "345 * 1 = 345\n",
      "345 * 2 = 690\n",
      "345 * 3 = 1035\n",
      "345 * 4 = 1380\n",
      "345 * 5 = 1725\n",
      "345 * 6 = 2070\n",
      "345 * 7 = 2415\n",
      "345 * 8 = 2760\n",
      "345 * 9 = 3105\n",
      "345 * 10 = 3450\n"
     ]
    }
   ],
   "source": [
    "i = 1\n",
    "n = 345\n",
    "while i<=10:\n",
    "    print(n,\"*\",i,\"=\",n*i)\n",
    "    i=i+1"
   ]
  },
  {
   "cell_type": "code",
   "execution_count": 10,
   "id": "1b4a296d",
   "metadata": {},
   "outputs": [],
   "source": [
    "# while with list"
   ]
  },
  {
   "cell_type": "code",
   "execution_count": 11,
   "id": "6be3eacc",
   "metadata": {},
   "outputs": [],
   "source": [
    "l1 = [1,2,3,4,5]\n"
   ]
  },
  {
   "cell_type": "code",
   "execution_count": 12,
   "id": "b90c5dc4",
   "metadata": {},
   "outputs": [],
   "source": [
    "i = 0"
   ]
  },
  {
   "cell_type": "code",
   "execution_count": 18,
   "id": "f4b58da4",
   "metadata": {},
   "outputs": [],
   "source": [
    "while i<len(l1):\n",
    "    l1[i]=l1[i]+100\n",
    "    i=i+1"
   ]
  },
  {
   "cell_type": "markdown",
   "id": "577345cf",
   "metadata": {},
   "source": [
    "# "
   ]
  },
  {
   "cell_type": "code",
   "execution_count": 19,
   "id": "d6491ef7",
   "metadata": {},
   "outputs": [
    {
     "data": {
      "text/plain": [
       "[101, 102, 103, 104, 105]"
      ]
     },
     "execution_count": 19,
     "metadata": {},
     "output_type": "execute_result"
    }
   ],
   "source": [
    "l1"
   ]
  },
  {
   "cell_type": "code",
   "execution_count": 20,
   "id": "cd1b92c3",
   "metadata": {},
   "outputs": [],
   "source": [
    "l1 = [\"mango\",\"grapes\",\"orange\",\"papaya\"]\n"
   ]
  },
  {
   "cell_type": "code",
   "execution_count": 21,
   "id": "3bd9f06b",
   "metadata": {},
   "outputs": [
    {
     "name": "stdout",
     "output_type": "stream",
     "text": [
      "mango\n",
      "grapes\n",
      "orange\n",
      "papaya\n"
     ]
    }
   ],
   "source": [
    "for i in l1:\n",
    "    print(i)"
   ]
  },
  {
   "cell_type": "code",
   "execution_count": 27,
   "id": "4f62e119",
   "metadata": {},
   "outputs": [],
   "source": [
    "l1 = [\"Tuesday\",\"monday\",\"sunday\",\"saturday\"]\n",
    "l2 = [1,2,3,4,5,6,7,8,9,10,11,12]\n"
   ]
  },
  {
   "cell_type": "code",
   "execution_count": 28,
   "id": "e8b530cc",
   "metadata": {},
   "outputs": [
    {
     "name": "stdout",
     "output_type": "stream",
     "text": [
      "Tuesday 1\n",
      "Tuesday 2\n",
      "Tuesday 3\n",
      "Tuesday 4\n",
      "Tuesday 5\n",
      "Tuesday 6\n",
      "Tuesday 7\n",
      "Tuesday 8\n",
      "Tuesday 9\n",
      "Tuesday 10\n",
      "Tuesday 11\n",
      "Tuesday 12\n",
      "monday 1\n",
      "monday 2\n",
      "monday 3\n",
      "monday 4\n",
      "monday 5\n",
      "monday 6\n",
      "monday 7\n",
      "monday 8\n",
      "monday 9\n",
      "monday 10\n",
      "monday 11\n",
      "monday 12\n",
      "sunday 1\n",
      "sunday 2\n",
      "sunday 3\n",
      "sunday 4\n",
      "sunday 5\n",
      "sunday 6\n",
      "sunday 7\n",
      "sunday 8\n",
      "sunday 9\n",
      "sunday 10\n",
      "sunday 11\n",
      "sunday 12\n",
      "saturday 1\n",
      "saturday 2\n",
      "saturday 3\n",
      "saturday 4\n",
      "saturday 5\n",
      "saturday 6\n",
      "saturday 7\n",
      "saturday 8\n",
      "saturday 9\n",
      "saturday 10\n",
      "saturday 11\n",
      "saturday 12\n"
     ]
    }
   ],
   "source": [
    "for i in l1:\n",
    "    for j in l2:\n",
    "        print(i,j)"
   ]
  },
  {
   "cell_type": "code",
   "execution_count": 29,
   "id": "fb3365d4",
   "metadata": {},
   "outputs": [
    {
     "data": {
      "text/plain": [
       "'C:\\\\Users\\\\Intel'"
      ]
     },
     "execution_count": 29,
     "metadata": {},
     "output_type": "execute_result"
    }
   ],
   "source": [
    "pwd"
   ]
  },
  {
   "cell_type": "code",
   "execution_count": null,
   "id": "6aa012d2",
   "metadata": {},
   "outputs": [],
   "source": []
  }
 ],
 "metadata": {
  "kernelspec": {
   "display_name": "Python 3 (ipykernel)",
   "language": "python",
   "name": "python3"
  },
  "language_info": {
   "codemirror_mode": {
    "name": "ipython",
    "version": 3
   },
   "file_extension": ".py",
   "mimetype": "text/x-python",
   "name": "python",
   "nbconvert_exporter": "python",
   "pygments_lexer": "ipython3",
   "version": "3.9.7"
  }
 },
 "nbformat": 4,
 "nbformat_minor": 5
}
